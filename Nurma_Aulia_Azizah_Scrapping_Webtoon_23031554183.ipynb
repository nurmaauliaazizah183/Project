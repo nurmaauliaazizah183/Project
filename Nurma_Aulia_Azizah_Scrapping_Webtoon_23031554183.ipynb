{
  "nbformat": 4,
  "nbformat_minor": 0,
  "metadata": {
    "colab": {
      "provenance": [],
      "authorship_tag": "ABX9TyMkouYVaxSAhU7AU6arsPPv",
      "include_colab_link": true
    },
    "kernelspec": {
      "name": "python3",
      "display_name": "Python 3"
    },
    "language_info": {
      "name": "python"
    }
  },
  "cells": [
    {
      "cell_type": "markdown",
      "metadata": {
        "id": "view-in-github",
        "colab_type": "text"
      },
      "source": [
        "<a href=\"https://colab.research.google.com/github/nurmaauliaazizah183/Tugas/blob/main/Nurma_Aulia_Azizah_Scrapping_Webtoon_23031554183.ipynb\" target=\"_parent\"><img src=\"https://colab.research.google.com/assets/colab-badge.svg\" alt=\"Open In Colab\"/></a>"
      ]
    },
    {
      "cell_type": "code",
      "execution_count": null,
      "metadata": {
        "id": "t-srqQNF-AhI",
        "colab": {
          "base_uri": "https://localhost:8080/"
        },
        "outputId": "599a3e5b-4318-4dc1-f6d4-330a59490add"
      },
      "outputs": [
        {
          "output_type": "stream",
          "name": "stdout",
          "text": [
            "Hasil scraping Webtoons genre komedi:\n",
            "                                       Judul                   Author    Likes\n",
            "0                                    BAD GUY                    DOOMS    4,5JT\n",
            "1                                   Si Ocong            Agung Gunawan     19JT\n",
            "2                        Paw-ther Knows Best            GaeCho / MiTi  221.799\n",
            "3                          The Macho Florist    kumtata / Ju hyun hoo    1,9JT\n",
            "4                         Cintaku Bau Kencur              _Daebvinci_  153.927\n",
            "5                        New Normal: Class 8                Youngpaka    3,9JT\n",
            "6                               Just Friends                  CL NUNA   20,8JT\n",
            "7                                  Hantu +62             Meidito Dian    5,1JT\n",
            "8                        Eh, Sorry Kesantet!               aiextradip    3,1JT\n",
            "9                         Dulu Gwe(n) Pernah  Sisifafa / Romy Hernadi   22,1JT\n",
            "10                               Life of 16!              Ameva Laura  476.053\n",
            "11                              The Girl 180           nowone / della    4,5JT\n",
            "12                               Ayam Goreng                      PJD  644.114\n",
            "13                               House Daddy                     HAAI    2,3JT\n",
            "14                             The Holy Idol            studioM / AXA    1,3JT\n",
            "15                               Potato Town                      PJD  417.124\n",
            "16                                     Minus                 Egimugia    1,6JT\n",
            "17                        Kang Paket Ganteng                piio keii  221.749\n",
            "18                                  Sickomik                 Red Coco    2,2JT\n",
            "19                            Terlalu Tampan         Mas Okis / S.M.S   11,9JT\n",
            "20               Si Juki: LIKA LIKU ANAK KOS               Faza Meonk    1,5JT\n",
            "21                                     DjINN           Aland B. / DRD  666.431\n",
            "22                  Jangan Baca Webtoon Ini!           Mas Okis / Rea    2,9JT\n",
            "23                              Kutu Webtoon        Hasnaul Ikhtarosa      1JT\n",
            "24                                ART/STROKE                      M.M  575.279\n",
            "25                  Stand Up, Mr. President!        Rutheal / Lidowey    2,3JT\n",
            "26                                Anak Bapak                A_Catnoda  918.619\n",
            "27                               Trio Koplak                   Siakae  356.864\n",
            "28                                   Uga Uga                    Henie    6,6JT\n",
            "29                              Twin Connect                tiansenou    3,3JT\n",
            "30                             Romance Punch            Galang Larope    2,4JT\n",
            "31                            Terlalu Cantik      Mas Okis / Mas Hiro      8JT\n",
            "32                           SENGKLEK FAMILY         Julian Syahputra  403.263\n",
            "33                                Day by Bae                     HAAI    1,6JT\n",
            "34                                Bang Lambe                     Alan    2,3JT\n",
            "35                           Psychic Studies           Eun Hyuck Park  768.393\n",
            "36                                Tahilalats          Tahilalats Team   38,4JT\n",
            "37          Nostalgia Ramadhan Si Juki Kecil               Faza Meonk  427.189\n",
            "38                      Brothers and Sisters                    Ginyu    2,4JT\n",
            "39                                   No Homo               Apitnobaka  468.205\n",
            "40                            Gentle HIPster                    Henie    1,8JT\n",
            "41       Si Juki : Kisah Kusut Dunia Dongeng               Faza Meonk      1JT\n",
            "42  Nostalgia Ramadhan Si Juki Kecil Season2               Faza Meonk  375.566\n",
            "43                                     MUROS              Surya Putra    2,7JT\n",
            "44                                 Lazy Dogs                 Hong-kki      3JT\n",
            "45                               Brotherhood                     GIMS    1,2JT\n",
            "46                          Prince of Prince               JAEAH / SE    1,6JT\n",
            "47                     The Girls are Monster                Kyriepoda  537.490\n",
            "48         A Simple Thinking About Bloodtype             Dongsun Park    2,4JT\n",
            "49                       Family Over Flowers       SANGSIN / JOONGROK    2,5JT\n",
            "50    Soekirman: Ramadhan di Kampung Halaman   YOGADANU / ZAINUL MOZA  171.631\n",
            "51                                   Si Udin                   NIKSEN    8,1JT\n",
            "52                          Kecoa dan Dendam          Renato Adhitama    5,1JT\n",
            "53                           Piraku x Piraku            Sweta Kartika  246.177\n",
            "54                       Just for Flat Jokes                   Mind C  449.165\n",
            "55                                 Soekirman   YOGADANU / ZAINUL MOZA    1,1JT\n",
            "56                          Sepulang Sekolah   KOI & JUI / Dhan Akhir    4,2JT\n",
            "57                              Komik Faktap         Tim Komik Faktap    4,8JT\n",
            "58                            GHOSTY's COMIC               GHOSTYCORP    4,6JT\n",
            "59                       10th Dimension Boys                    Cutbu  892.919\n",
            "60                                 Masdimboy              Adimas Bayu    1,7JT\n",
            "61                 I Thought My Time Was Up!          Essie / Hyeyong    2,6JT\n",
            "62                              Kekar Jelita    BROTOSUKIRMAN / PINEE  437.868\n",
            "63               +99 Reinforced Wooden Stick         HONGSIL / JIPERY      1JT\n",
            "64                                    OTENBA                 Dihocchi    2,7JT\n",
            "65                My Three Annoying Brothers                 olive-yu    3,6JT\n",
            "66                                Oh My Boy!                   Kanipa    3,6JT\n",
            "67                             Take My Money                 AlohaDRY    3,4JT\n"
          ]
        }
      ],
      "source": [
        "import requests as rs\n",
        "from bs4 import BeautifulSoup\n",
        "import pandas as pd\n",
        "\n",
        "pd.set_option('display.max_rows', None)\n",
        "pd.set_option('display.max_columns', None)\n",
        "\n",
        "url = \"https://www.webtoons.com/id/genres/comedy?sortOrder=READ_COUNT\"\n",
        "res = rs.get(url)\n",
        "soup = BeautifulSoup(res.text, 'html.parser')\n",
        "\n",
        "judul = soup.findAll(\"p\", {\"class\": \"subj\"})\n",
        "author = soup.findAll(\"p\", {\"class\": \"author\"})\n",
        "likes = soup.findAll(\"em\", {\"class\": \"grade_num\"})\n",
        "\n",
        "data = []\n",
        "\n",
        "for i in range(len(judul)):\n",
        "    try:\n",
        "        a = judul[i].text.strip()\n",
        "        b = author[i].text.strip()\n",
        "        c = likes[i].text.strip()\n",
        "\n",
        "        data.append({\n",
        "            'Judul': a,\n",
        "            'Author': b,\n",
        "            'Likes': c\n",
        "        })\n",
        "    except Exception as e:\n",
        "        print(f\"Error processing index {i}: {e}\")\n",
        "\n",
        "df = pd.DataFrame(data)\n",
        "\n",
        "df.to_csv('webtoons_comedy.csv', index=False, encoding='utf-8-sig')\n",
        "\n",
        "print(\"Hasil scraping Webtoons genre komedi:\")\n",
        "print(df)\n",
        "\n",
        "# from google.colab import files\n",
        "# files.download('webtoons_comedy.csv')"
      ]
    }
  ]
}